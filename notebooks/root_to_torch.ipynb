{
 "cells": [
  {
   "cell_type": "code",
   "execution_count": 1,
   "metadata": {},
   "outputs": [
    {
     "name": "stderr",
     "output_type": "stream",
     "text": [
      "/tmp/ipykernel_17336/1256517549.py:1: DeprecationWarning: Importing display from IPython.core.display is deprecated since IPython 7.14, please import from IPython display\n",
      "  from IPython.core.display import display, HTML\n"
     ]
    },
    {
     "data": {
      "text/html": [
       "<style>.container { width:98% !important; }</style>"
      ],
      "text/plain": [
       "<IPython.core.display.HTML object>"
      ]
     },
     "metadata": {},
     "output_type": "display_data"
    }
   ],
   "source": [
    "from IPython.core.display import display, HTML\n",
    "display(HTML(\"<style>.container { width:98% !important; }</style>\"))"
   ]
  },
  {
   "cell_type": "code",
   "execution_count": 53,
   "metadata": {},
   "outputs": [],
   "source": [
    "import uproot\n",
    "import numpy as np\n",
    "import glob\n",
    "import os\n",
    "import os.path as osp\n",
    "import matplotlib.pyplot as plt\n",
    "import torch\n",
    "from torch_geometric.data import Data\n",
    "from tqdm import tqdm as tqdm"
   ]
  },
  {
   "cell_type": "code",
   "execution_count": 6,
   "metadata": {},
   "outputs": [],
   "source": [
    "def crop_EBshower_padded(imgEB, iphi, ieta, window=128):\n",
    "\n",
    "\t\tassert len(imgEB.shape) == 3, '!! len(imgEB.shape): %d != 3'%len(imgEB.shape)\n",
    "\t\tassert ieta < imgEB.shape[1], '!! ieta:%d !< imgEB.shape[1]:%d'%(ieta, imgEB.shape[1])\n",
    "\t\tassert iphi < imgEB.shape[2], '!! iphi:%d !< imgEB.shape[2]:%d'%(iphi, imgEB.shape[2])\n",
    "\n",
    "\t\t# NOTE: image window here should correspond to the one used in RHAnalyzer\n",
    "\t\toff = window//2\n",
    "\t\tieta = int(ieta)+1 # seed positioned at [15,15]\n",
    "\t\tiphi = int(iphi)+1 # seed positioned at [15,15]\n",
    "\n",
    "\t\t# ------------------------------------------------\n",
    "\t\t# ieta (row) padding\n",
    "\t\t# ------------------------------------------------\n",
    "\t\tpad_lo, pad_hi = 0, 0\n",
    "\t\t# lower padding check\n",
    "\t\tif ieta >= off:\n",
    "\t\t\t\tieta_lo = ieta-off\n",
    "\t\telse:\n",
    "\t\t\t\tpad_lo = abs(ieta-off)\n",
    "\t\t\t\tieta_lo = 0\n",
    "\t\t# upper padding check\n",
    "\t\tif ieta+off <= imgEB.shape[1]:\n",
    "\t\t\t\tieta_hi = ieta+off\n",
    "\t\telse:\n",
    "\t\t\t\tpad_hi = abs(ieta+off-imgEB.shape[1])\n",
    "\t\t\t\tieta_hi = imgEB.shape[1]\n",
    "\n",
    "\t\t# ------------------------------------------------\n",
    "\t\t# iphi (col) wrap-around\n",
    "\t\t# ------------------------------------------------\n",
    "\t\t# Wrap-around on left side\n",
    "\t\tif iphi < off:\n",
    "\t\t\t\tdiff = off-iphi\n",
    "\t\t\t\timg_crop_ = np.concatenate((imgEB[:, ieta_lo:ieta_hi, -diff:], imgEB[:, ieta_lo:ieta_hi, :iphi+off]), axis=-1)\n",
    "\t\t# Wrap-around on right side\n",
    "\t\telif 360-iphi < off:\n",
    "\t\t\t\tdiff = off - (360-iphi)\n",
    "\t\t\t\timg_crop_ = np.concatenate((imgEB[:, ieta_lo:ieta_hi, iphi-off:], imgEB[:, ieta_lo:ieta_hi, :diff]), axis=-1)\n",
    "\t\t# Nominal case\n",
    "\t\telse:\n",
    "\t\t\t\timg_crop_ = imgEB[:, ieta_lo:ieta_hi, iphi-off:iphi+off]\n",
    "\n",
    "\t\t# Add ieta padding if needed\n",
    "\t\timg_crop = np.pad(img_crop_, ((0,0), (pad_lo, pad_hi), (0,0)), 'constant') # pads with 0\n",
    "\t\tassert img_crop.shape[1] == window, '!! img_crop.shape[1]:%d != window:%d'%(img_crop.shape[1], window)\n",
    "\t\tassert img_crop.shape[2] == window, '!! img_crop.shape[2]:%d != window:%d'%(img_crop.shape[2], window)\n",
    "\n",
    "\t\treturn img_crop\n",
    "\n",
    "def flip_img(X_img):\n",
    "    X_img = X_img.squeeze()\n",
    "    #print(X_img.shape)\n",
    "    Down = X_img[:63,:] #Excluding [63,63]-->highest deposit\n",
    "    Up= X_img[64:128,:]\n",
    "    Down_avg= np.mean(Down.flatten())\n",
    "    Up_avg= np.mean(Up.flatten())\n",
    "    #print(\"Down_avg= %.4f, Up_avg= %.4f\"%(Down_avg, Up_avg))\n",
    " \n",
    "    if (Down_avg > Up_avg):\n",
    "        X_img = np.flipud(X_img)\n",
    "\n",
    "    Left =  X_img[:,:63]\n",
    "    Right = X_img[:,64:128]\n",
    "    Left_avg= np.mean(Left.flatten())\n",
    "    Right_avg= np.mean(Right.flatten())\n",
    "   \n",
    "    if (Left_avg > Right_avg): \n",
    "        X_img = np.fliplr(X_img)\n",
    "\n",
    "    X_img = X_img.reshape(1,128,128)        \n",
    "    return(X_img)\n",
    "\n",
    "\n",
    "def crop_EBshower(imgEB, iphi, ieta, window=128):\n",
    "\n",
    "\t# NOTE: image window here should correspond to the one used in RHAnalyzer\n",
    "\toff = window//2\n",
    "\tiphi = int(iphi)+1 # seed positioned at [15,15]\n",
    "\tieta = int(ieta)+1 # seed positioned at [15,15]\n",
    "\t\n",
    "\t# Wrap-around on left side\n",
    "\tif iphi < off:\n",
    "\t\t\tdiff = off-iphi\n",
    "\t\t\timg_crop = np.concatenate((imgEB[:,ieta-off:ieta+off,-diff:], imgEB[:,ieta-off:ieta+off,:iphi+off]), axis=-1)\n",
    "\t# Wrap-around on right side\n",
    "\telif 360-iphi < off:\n",
    "\t\t\tdiff = off - (360-iphi)\n",
    "\t\t\timg_crop = np.concatenate((imgEB[:,ieta-off:ieta+off,iphi-off:], imgEB[:,ieta-off:ieta+off,:diff]), axis=-1)\n",
    "\t# Nominal case\n",
    "\telse:\n",
    "\t\t\timg_crop = imgEB[:,ieta-off:ieta+off,iphi-off:iphi+off]\n",
    "\t\n",
    "\treturn img_crop\n"
   ]
  },
  {
   "cell_type": "code",
   "execution_count": 66,
   "metadata": {},
   "outputs": [],
   "source": [
    "#from mpl_toolkits import mplot3d\n",
    "#fig = plt.figure()\n",
    "#ax = plt.axes(projection='3d')\n",
    "#%matplotlib notebook\n",
    "\n",
    "\n",
    "def processinputfile(inputfile,processeddir):\n",
    "    \n",
    "    file = uproot.open(inputfile)\n",
    "    tree = file[\"fevt/RHTree\"]\n",
    "    tokeep = tree.arrays(tokeep_labels,library=\"np\")\n",
    "    nevts = tree.num_entries\n",
    "    \n",
    "    #tree = file[\"fevt/RHTree\"]\n",
    "    #tree.show() # get branch details\n",
    "    \n",
    "    SC_iphi=tokeep[\"SC_iphi\"]\n",
    "    SC_ieta=tokeep[\"SC_ieta\"]\n",
    "    SC_mass=tokeep[\"SC_mass\"]\n",
    "    EB_energy=tokeep[\"EB_energy\"]\n",
    "    EB_RHeta=tokeep[\"EB_RHeta\"]\n",
    "    EB_RHphi=tokeep[\"EB_RHphi\"]\n",
    "    EB_RHx=tokeep[\"EB_RHx\"]\n",
    "    EB_RHy=tokeep[\"EB_RHy\"]\n",
    "    EB_RHz=tokeep[\"EB_RHz\"]\n",
    "    \n",
    "    for i in tqdm(range(nevts),desc=\"processing event in file -->\"):\n",
    "        npho = len(SC_iphi[i])\n",
    "\n",
    "        for j in range(npho):\n",
    "\n",
    "\n",
    "            sciphi = SC_iphi[i][j]\n",
    "            scieta = SC_ieta[i][j]\n",
    "            scmass = SC_mass[i][j]\n",
    "            eben = EB_energy[i].reshape(1,170,360)\n",
    "            ebeta = EB_RHeta[i].reshape(1,170,360)\n",
    "            ebphi = EB_RHphi[i].reshape(1,170,360)\n",
    "            ebx = EB_RHx[i].reshape(1,170,360)\n",
    "            eby = EB_RHy[i].reshape(1,170,360)\n",
    "            ebz = EB_RHz[i].reshape(1,170,360)\n",
    "\n",
    "            #plt.imshow(eben[0,:,:])\n",
    "            #plt.show()\n",
    "\n",
    "\n",
    "            eb_crop = crop_EBshower_padded(eben, sciphi, scieta)\n",
    "            rh_eta  = crop_EBshower_padded(ebeta, sciphi, scieta)\n",
    "            rh_phi = crop_EBshower_padded(ebphi, sciphi, scieta)\n",
    "            rh_x = crop_EBshower_padded(ebx, sciphi, scieta)\n",
    "            rh_y = crop_EBshower_padded(eby, sciphi, scieta)\n",
    "            rh_z = crop_EBshower_padded(ebz, sciphi, scieta)\n",
    "\n",
    "            rawvers = False\n",
    "            #rawvers = True\n",
    "            if rawvers:\n",
    "\n",
    "                idata = np.stack([eb_crop.flatten(),rh_x.flatten(),rh_y.flatten(),rh_z.flatten(),rh_eta.flatten(),rh_phi.flatten()],axis=1)\n",
    "                idata = idata[idata[:,0] > 0 ] \n",
    "                '''print(idata.shape)\n",
    "                plt.scatter(idata[:,4],idata[:,5],s=idata[:,0])\n",
    "                plt.show()'''\n",
    "\n",
    "            else:\n",
    "                centered = False\n",
    "                rw,cl = np.where(np.squeeze(eb_crop,axis=0)>-999)\n",
    "                if centered:\n",
    "                    rwmax,clmax = np.where(np.squeeze(eb_crop,axis=0) == np.max(eb_crop))\n",
    "                    #print(rwmax,clmax)\n",
    "                    rw  = rw - rwmax\n",
    "                    cl  = cl - rwmax\n",
    "\n",
    "                idata = np.stack([eb_crop.flatten(),rw,cl,rh_x.flatten(),rh_y.flatten(),rh_z.flatten(),rh_eta.flatten(),rh_phi.flatten()],axis=1)\n",
    "                idata = idata[idata[:,0] > 0 ] \n",
    "                '''print(idata.shape)\n",
    "                plt.scatter(idata[:,1],idata[:,2],s=idata[:,0])\n",
    "                plt.show()'''\n",
    "\n",
    "\n",
    "\n",
    "            '''plt.imshow(eben[0,:,:],cmap='gray_r')\n",
    "            plt.show()\n",
    "            plt.imshow(eb_crop.reshape(128,128),cmap='gray_r')\n",
    "            plt.show()'''\n",
    "\n",
    "            torch.save(Data(x = torch.tensor(idata, dtype=torch.float32),\n",
    "                        pmass = torch.tensor(scmass.reshape(1,1),dtype=torch.float32),\n",
    "                        pscieta = torch.tensor(scieta.reshape(1,1),dtype=torch.float32),\n",
    "                        psciphi = torch.tensor(sciphi.reshape(1,1),dtype=torch.float32)),\n",
    "                        #osp.join(processed_dir, 'datapi_{}_{}.pt'.format(evt,ntk)))\n",
    "                        #osp.join(processed_dir, 'data_{}_{}_{}.pt'.format(idx,evt,ngun)))\n",
    "                        osp.join(processeddir, 'data_{}_{}.pt'.format(i,j)))\n",
    "                        #'test.pt')\n",
    "\n",
    "        #if i > 5:\n",
    "        #print(time.time() - start_time)\n",
    "\n",
    "            break\n",
    "        break"
   ]
  },
  {
   "cell_type": "code",
   "execution_count": 69,
   "metadata": {
    "scrolled": false
   },
   "outputs": [
    {
     "name": "stdout",
     "output_type": "stream",
     "text": [
      "processing file: /data_CMS/cms/sghosh/ECALGNNDATA/RootFiles/GenPi0\n",
      "saving into: /data_CMS/cms/sghosh/ECALGNNDATA/GRAPHS/GenPi0/\n"
     ]
    },
    {
     "name": "stderr",
     "output_type": "stream",
     "text": [
      "processing files in dataset -->:   0%|          | 0/500 [00:00<?, ?it/s]\n",
      "processing event in file -->:   0%|          | 0/449 [00:00<?, ?it/s]\u001b[A\n",
      "processing files in dataset -->:   0%|          | 0/500 [00:02<?, ?it/s]\n"
     ]
    },
    {
     "name": "stdout",
     "output_type": "stream",
     "text": [
      "processing file: /data_CMS/cms/sghosh/ECALGNNDATA/RootFiles/GenGamma\n",
      "saving into: /data_CMS/cms/sghosh/ECALGNNDATA/GRAPHS/GenGamma/\n"
     ]
    },
    {
     "name": "stderr",
     "output_type": "stream",
     "text": [
      "processing files in dataset -->:   0%|          | 0/1250 [00:00<?, ?it/s]\n",
      "processing event in file -->:   0%|          | 0/171 [00:00<?, ?it/s]\u001b[A\n",
      "processing files in dataset -->:   0%|          | 0/1250 [00:01<?, ?it/s]\n"
     ]
    }
   ],
   "source": [
    "\n",
    "#import time\n",
    "#start_time = time.time()\n",
    "\n",
    "\n",
    "path = '/data_CMS/cms/sghosh/ECALGNNDATA/RootFiles/'\n",
    "dsets = os.listdir(path) \n",
    "\n",
    "    \n",
    "out_dir = '/data_CMS/cms/sghosh/ECALGNNDATA/GRAPHS/'\n",
    "\n",
    "\n",
    "\n",
    "tokeep_labels = [\"SC_iphi\",\n",
    "                 \"SC_ieta\",\n",
    "                 \"SC_mass\",\n",
    "                 \"EB_energy\",\n",
    "                 \"EB_RHeta\",\n",
    "                 \"EB_RHphi\",\n",
    "                 \"EB_RHx\",\n",
    "                 \"EB_RHy\",\n",
    "                 \"EB_RHz\",\n",
    "                # \"EB_energyT\",\n",
    "                # \"EB_energyZ\",\n",
    "                ]\n",
    "\n",
    "\n",
    "for dset in dsets:\n",
    "    print(\"processing file:\",path+dset)\n",
    "    \n",
    "    processed_dir = out_dir+dset+'/'\n",
    "    print(\"saving into:\",processed_dir)\n",
    "    \n",
    "    if not os.path.exists(processed_dir):\n",
    "         os.makedirs(processed_dir)\n",
    "    \n",
    "    \n",
    "    filesindir = [path+dset+'/'+i for i in os.listdir(path+dset+'/')] \n",
    "    #print(filesindir)\n",
    "    for inp in tqdm(filesindir,desc=\"processing files in dataset -->\"):\n",
    "        processinputfile(inp,processed_dir)\n",
    "        break\n",
    "    \n",
    "    \n",
    "    "
   ]
  },
  {
   "cell_type": "code",
   "execution_count": 50,
   "metadata": {},
   "outputs": [],
   "source": [
    "idx = torch.load(\"test.pt\")"
   ]
  },
  {
   "cell_type": "code",
   "execution_count": 51,
   "metadata": {},
   "outputs": [
    {
     "data": {
      "text/plain": [
       "array([[2.3812253]], dtype=float32)"
      ]
     },
     "execution_count": 51,
     "metadata": {},
     "output_type": "execute_result"
    }
   ],
   "source": [
    "idx.pmass.numpy()"
   ]
  },
  {
   "cell_type": "code",
   "execution_count": null,
   "metadata": {},
   "outputs": [],
   "source": []
  }
 ],
 "metadata": {
  "kernelspec": {
   "display_name": "ecalenv38",
   "language": "python",
   "name": "ecalenv38"
  },
  "language_info": {
   "codemirror_mode": {
    "name": "ipython",
    "version": 3
   },
   "file_extension": ".py",
   "mimetype": "text/x-python",
   "name": "python",
   "nbconvert_exporter": "python",
   "pygments_lexer": "ipython3",
   "version": "3.8.13"
  }
 },
 "nbformat": 4,
 "nbformat_minor": 4
}
